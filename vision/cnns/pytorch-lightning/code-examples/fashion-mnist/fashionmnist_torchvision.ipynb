{
 "cells": [
  {
   "cell_type": "markdown",
   "id": "94e17e03",
   "metadata": {},
   "source": [
    "Copyright (c) 2023 Graphcore Ltd. All rights reserved.\n",
    "\n",
    "This Notebook takes you through the simple steps to use Lightning (https://github.com/Lightning-AI/lightning/) to run on the IPU. It takes a simple model from Lightning (LightningModule) and wraps the model in Lightning's standard processes for defining training, validation and optimiser behaviour. The only IPU-specific code is the dataloader and the instructions telling Lightning to run on the IPU.\n",
    "\n",
    "This Notebook assumes you are running in a Docker container which needs to be updated to include all the required Linux packages.\n",
    "\n",
    "The code in this Notebook shares requirements and dependencies with the adjacent PyTorch models. Install all requirements from the pytorch directory."
   ]
  },
  {
   "cell_type": "code",
   "execution_count": null,
   "id": "dc3cc35b",
   "metadata": {},
   "outputs": [],
   "source": [
    "import os\n",
    "\n",
    "import_location = os.getenv(\"POPTORCH_CNN_IMPORTS\", \"../pytorch\")\n",
    "number_of_ipus = 4\n",
    "dataset_directory = os.getenv(\"DATASET_DIR\", \"fashionmnist_data/\")"
   ]
  },
  {
   "cell_type": "markdown",
   "id": "44c34fe9",
   "metadata": {},
   "source": [
    "Move to the main pytorch lightling directory"
   ]
  },
  {
   "cell_type": "code",
   "execution_count": null,
   "id": "c7f59b88",
   "metadata": {},
   "outputs": [],
   "source": [
    "%cd ../.."
   ]
  },
  {
   "cell_type": "markdown",
   "id": "5100fbf2",
   "metadata": {},
   "source": [
    "If you are running this Notebook in a docker container you will have the sudo rights to execute the cell below. If not, you may need to execute this separately."
   ]
  },
  {
   "cell_type": "code",
   "execution_count": null,
   "id": "d3deccf5",
   "metadata": {},
   "outputs": [],
   "source": [
    "!apt update\n",
    "!apt-get install -y $(< {import_location}/required_apt_packages.txt)"
   ]
  },
  {
   "cell_type": "markdown",
   "id": "93ec940a",
   "metadata": {},
   "source": [
    "Install PyTorch requirements"
   ]
  },
  {
   "cell_type": "code",
   "execution_count": null,
   "id": "1cdab55e",
   "metadata": {},
   "outputs": [],
   "source": [
    "!make install -C {import_location}\n",
    "!make install-turbojpeg -C {import_location}"
   ]
  },
  {
   "cell_type": "code",
   "execution_count": null,
   "id": "f6a045b8-3cac-497c-bcc0-f44dab060c4a",
   "metadata": {},
   "outputs": [],
   "source": [
    "import torch\n",
    "import torchvision\n",
    "import poptorch\n",
    "import pytorch_lightning as pl\n",
    "from pytorch_lightning.strategies import IPUStrategy\n",
    "import torchvision.models as models\n",
    "from torch import nn\n",
    "import argparse"
   ]
  },
  {
   "cell_type": "markdown",
   "id": "e3a01c05",
   "metadata": {},
   "source": [
    "This notebook runs an of-the-shelf PyTorch mode"
   ]
  },
  {
   "cell_type": "markdown",
   "id": "5a64afdf",
   "metadata": {},
   "source": [
    "Take an off-the-shelf Resnet18 torchvision model and modify it for 10 FashionMNIST classes."
   ]
  },
  {
   "cell_type": "code",
   "execution_count": null,
   "id": "911a438c-91b7-413c-b35a-bdc95bd35904",
   "metadata": {},
   "outputs": [],
   "source": [
    "class TorchVisionBackbone(pl.LightningModule):\n",
    "    def __init__(self):\n",
    "        super().__init__()\n",
    "        self.network = models.resnet18()\n",
    "\n",
    "        # Overwriting the imported model's Conv1 layer to change it from 3 RGB channels to FashionMNIST's 1.\n",
    "        self.network.conv1 = nn.Conv2d(1, 64, 7)\n",
    "\n",
    "        # Overwriting the imported model's FC layer\n",
    "        num_features = self.network.fc.in_features\n",
    "        self.network.fc = nn.Linear(num_features, 10)\n",
    "\n",
    "    def forward(self, x):\n",
    "        x = self.network(x)\n",
    "        x = torch.nn.functional.log_softmax(x)\n",
    "        return x"
   ]
  },
  {
   "cell_type": "markdown",
   "id": "10f7f5a6",
   "metadata": {},
   "source": [
    "The following code shows how you can use a PyTorch Lightning module to wrap your model class and describe the behaviour for training and (optionally) validation steps. We use the `LightningModule`'s built in methods to configure the optimiser.\n",
    "For more information, see the [PyTorch Lightning Documentation for pl.LightningModule](https://pytorch-lightning.readthedocs.io/en/stable/common/lightning_module.html)."
   ]
  },
  {
   "cell_type": "code",
   "execution_count": null,
   "id": "7e72dd8e-1a6d-410d-8dbc-5f9774be3978",
   "metadata": {},
   "outputs": [],
   "source": [
    "# ResNet18 from-scratch with some changes to suit the FashionMNIST dataset\n",
    "class ResNetClassifier(pl.LightningModule):\n",
    "    def __init__(self, model):\n",
    "        super().__init__()\n",
    "        self.model = model\n",
    "\n",
    "    def forward(self, x):\n",
    "        x = self.model(x)\n",
    "        return x\n",
    "\n",
    "    def training_step(self, batch, _):\n",
    "        x, y = batch\n",
    "        output = self.forward(x)\n",
    "        loss = torch.nn.functional.nll_loss(output, y)\n",
    "        return loss\n",
    "\n",
    "    def validation_step(self, batch, _):\n",
    "        x, y = batch\n",
    "        output = self.forward(x)\n",
    "        preds = torch.argmax(output, dim=1)\n",
    "        acc = torch.sum(preds == y).float() / len(y)\n",
    "        return acc\n",
    "\n",
    "    def configure_optimizers(self):\n",
    "        return torch.optim.Adam(self.parameters(), lr=0.02)"
   ]
  },
  {
   "cell_type": "markdown",
   "id": "e391be5c",
   "metadata": {},
   "source": [
    "This class defines how to feed data to the model. It gets data from the local directory fashionmnist_data/ and declares a dataloader for training and for validation, based on the IPU-specific poptoch dataloader (https://docs.graphcore.ai/projects/poptorch-user-guide/en/latest/reference.html#poptorch.DataLoade). This will be passed to the trainer below."
   ]
  },
  {
   "cell_type": "code",
   "execution_count": null,
   "id": "63a67f56-22e2-4581-9d69-63e754be409a",
   "metadata": {},
   "outputs": [],
   "source": [
    "class FashionMNIST(pl.LightningDataModule):\n",
    "    def __init__(self, options, batch_size=4):\n",
    "        super().__init__()\n",
    "        self.batchsize = batch_size\n",
    "        self.options = options\n",
    "\n",
    "    def setup(self, stage=\"train\"):\n",
    "        # Retrieving the datasets\n",
    "        self.train_data = torchvision.datasets.FashionMNIST(\n",
    "            dataset_directory,\n",
    "            train=False,\n",
    "            download=True,\n",
    "            transform=torchvision.transforms.Compose(\n",
    "                [\n",
    "                    torchvision.transforms.ToTensor(),\n",
    "                    torchvision.transforms.Normalize((0.1307,), (0.3081,)),\n",
    "                ]\n",
    "            ),\n",
    "        )\n",
    "\n",
    "        self.validation_data = torchvision.datasets.FashionMNIST(\n",
    "            dataset_directory,\n",
    "            train=False,\n",
    "            download=True,\n",
    "            transform=torchvision.transforms.Compose(\n",
    "                [\n",
    "                    torchvision.transforms.ToTensor(),\n",
    "                    torchvision.transforms.Normalize((0.1307,), (0.3081,)),\n",
    "                ]\n",
    "            ),\n",
    "        )\n",
    "\n",
    "    def train_dataloader(self):\n",
    "        return poptorch.DataLoader(\n",
    "            dataset=self.train_data,\n",
    "            batch_size=self.batchsize,\n",
    "            options=self.options,\n",
    "            shuffle=True,\n",
    "            drop_last=True,\n",
    "            mode=poptorch.DataLoaderMode.Async,\n",
    "            num_workers=64,\n",
    "        )\n",
    "\n",
    "    def val_dataloader(self):\n",
    "        return poptorch.DataLoader(\n",
    "            dataset=self.validation_data,\n",
    "            batch_size=self.batchsize,\n",
    "            options=self.options,\n",
    "            drop_last=True,\n",
    "            mode=poptorch.DataLoaderMode.Async,\n",
    "            num_workers=64,\n",
    "        )"
   ]
  },
  {
   "cell_type": "markdown",
   "id": "b721d8c3",
   "metadata": {},
   "source": [
    "Set up training."
   ]
  },
  {
   "cell_type": "code",
   "execution_count": null,
   "id": "ec2ddbee",
   "metadata": {},
   "outputs": [],
   "source": [
    "model = TorchVisionBackbone()"
   ]
  },
  {
   "cell_type": "markdown",
   "id": "b0a1e8bd",
   "metadata": {},
   "source": [
    "Set up the number of IPUs to use. And how many epochs to train for"
   ]
  },
  {
   "cell_type": "code",
   "execution_count": null,
   "id": "f32ad783",
   "metadata": {},
   "outputs": [],
   "source": [
    "num_epochs = 2"
   ]
  },
  {
   "cell_type": "markdown",
   "id": "cd910edd",
   "metadata": {},
   "source": [
    "Pass the model to the PT-Lightning classifier and create a trainer with some IPU-specifc options;\n",
    "call pl.Trainer with acclerator set to \"ipu\" and strategy set to \"IPUStrategy\""
   ]
  },
  {
   "cell_type": "code",
   "execution_count": null,
   "id": "7eae3410",
   "metadata": {},
   "outputs": [],
   "source": [
    "model = ResNetClassifier(model)\n",
    "\n",
    "options = poptorch.Options()\n",
    "options.deviceIterations(250)\n",
    "options.replicationFactor(number_of_ipus)\n",
    "\n",
    "datamodule = FashionMNIST(options)\n",
    "\n",
    "trainer = pl.Trainer(\n",
    "    accelerator=\"ipu\",\n",
    "    devices=number_of_ipus,\n",
    "    max_epochs=num_epochs,\n",
    "    log_every_n_steps=1,\n",
    "    accumulate_grad_batches=8,\n",
    "    strategy=IPUStrategy(inference_opts=options, training_opts=options),\n",
    ")"
   ]
  },
  {
   "cell_type": "markdown",
   "id": "a824e1af",
   "metadata": {},
   "source": [
    "Now train the model"
   ]
  },
  {
   "cell_type": "code",
   "execution_count": null,
   "id": "bb57f185-8817-4efe-b4f3-dfdffa0a377c",
   "metadata": {},
   "outputs": [],
   "source": [
    "trainer.fit(model, datamodule)"
   ]
  },
  {
   "cell_type": "code",
   "execution_count": null,
   "id": "1e3d0008",
   "metadata": {},
   "outputs": [],
   "source": []
  }
 ],
 "metadata": {
  "language_info": {
   "name": "python"
  }
 },
 "nbformat": 4,
 "nbformat_minor": 5
}
