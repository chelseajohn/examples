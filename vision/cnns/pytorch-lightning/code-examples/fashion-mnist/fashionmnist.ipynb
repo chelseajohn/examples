{
 "cells": [
  {
   "cell_type": "markdown",
   "id": "94e17e03",
   "metadata": {},
   "source": [
    "Copyright (c) 2023 Graphcore Ltd. All rights reserved.\n",
    "\n",
    "This Notebook takes you through the simple steps to use Lightning (https://github.com/Lightning-AI/lightning/) to run on the IPU. It creates a simple model and wraps the model in Lightning's standard processes for defining training, validation and optimiser behaviour. The only IPU-specific code is the dataloader and the instructions telling Lightning to run on the IPU.\n",
    "\n",
    "This Notebook assumes you are running in a Docker container which needs to be updated to include all the required Linux packages.\n",
    "\n",
    "The code in this Notebook shares requirements and dependencies with the adjacent PyTorch models. Install all requirements from the pytorch directory."
   ]
  },
  {
   "cell_type": "markdown",
   "id": "2f8aa9e4",
   "metadata": {},
   "source": [
    "This Notebook assumes you are running in a Docker container which needs to be updated to include all the required Linux packages."
   ]
  },
  {
   "cell_type": "code",
   "execution_count": null,
   "id": "dc3cc35b",
   "metadata": {},
   "outputs": [],
   "source": [
    "import os\n",
    "\n",
    "import_location = os.getenv(\"POPTORCH_CNN_IMPORTS\", \"../pytorch\")\n",
    "number_of_ipus = 4\n",
    "dataset_directory = os.getenv(\"DATASET_DIR\", \"fashionmnist_data/\")"
   ]
  },
  {
   "cell_type": "code",
   "execution_count": null,
   "id": "5264b3ce",
   "metadata": {},
   "outputs": [],
   "source": [
    "%cd ../../"
   ]
  },
  {
   "cell_type": "markdown",
   "id": "5100fbf2",
   "metadata": {},
   "source": [
    "If you are running this Notebook in a docker container you will have the sudo rights to execute the cell below. If not, you may need to execute this separately."
   ]
  },
  {
   "cell_type": "code",
   "execution_count": null,
   "id": "d3deccf5",
   "metadata": {},
   "outputs": [],
   "source": [
    "!apt update\n",
    "!apt-get install -y $(< {import_location}/required_apt_packages.txt)"
   ]
  },
  {
   "cell_type": "markdown",
   "id": "93ec940a",
   "metadata": {},
   "source": [
    "Install PyTorch requirements"
   ]
  },
  {
   "cell_type": "code",
   "execution_count": null,
   "id": "1cdab55e",
   "metadata": {},
   "outputs": [],
   "source": [
    "!make install -C {import_location}\n",
    "!make install-turbojpeg -C {import_location}"
   ]
  },
  {
   "cell_type": "code",
   "execution_count": null,
   "id": "f6a045b8-3cac-497c-bcc0-f44dab060c4a",
   "metadata": {},
   "outputs": [],
   "source": [
    "import torch\n",
    "import torchvision\n",
    "import poptorch\n",
    "import pytorch_lightning as pl\n",
    "from pytorch_lightning.strategies import IPUStrategy\n",
    "from torch import nn\n",
    "import argparse"
   ]
  },
  {
   "cell_type": "markdown",
   "id": "e3a01c05",
   "metadata": {},
   "source": [
    "This notebook runs a small model that will be defined below.\n",
    "Start by writing a basic block with residual connections which will be used in the simple model later."
   ]
  },
  {
   "cell_type": "code",
   "execution_count": null,
   "id": "1da25c79-8bfc-4f6a-a5d8-5585b2d62658",
   "metadata": {},
   "outputs": [],
   "source": [
    "class ResidualBlock(nn.Module):\n",
    "    def __init__(\n",
    "        self, in_channels, out_channels, stride_inp=(1, 1), downsample_key=False\n",
    "    ):\n",
    "        super().__init__()\n",
    "        self.block = torch.nn.Sequential(\n",
    "            nn.Conv2d(\n",
    "                in_channels,\n",
    "                out_channels,\n",
    "                3,\n",
    "                stride=stride_inp,\n",
    "                padding=(1, 1),\n",
    "                bias=False,\n",
    "            ),\n",
    "            nn.BatchNorm2d(out_channels),\n",
    "            nn.ReLU(True),\n",
    "            nn.Conv2d(out_channels, out_channels, 3, padding=(1, 1), bias=False),\n",
    "            nn.BatchNorm2d(out_channels),\n",
    "        )\n",
    "\n",
    "        self.downsample = None\n",
    "        if downsample_key:\n",
    "            self.downsample = nn.Sequential(\n",
    "                nn.Conv2d(in_channels, out_channels, 1, stride=stride_inp, bias=False),\n",
    "                nn.BatchNorm2d(out_channels),\n",
    "            )\n",
    "\n",
    "    def forward(self, x):\n",
    "        out = self.block(x)\n",
    "        if self.downsample:\n",
    "            out += self.downsample(x)\n",
    "        return out"
   ]
  },
  {
   "cell_type": "markdown",
   "id": "5e161e9c",
   "metadata": {},
   "source": [
    "Now define a small Resnet model which also outputs 10 classes. It uses the residual block defined above. This defines the structure of the model and what a forward pass looks like."
   ]
  },
  {
   "cell_type": "code",
   "execution_count": null,
   "id": "d64844ab",
   "metadata": {},
   "outputs": [],
   "source": [
    "class ResNetFromScratch(torch.nn.Module):\n",
    "    def __init__(self):\n",
    "        super().__init__()\n",
    "\n",
    "        self.model = torch.nn.Sequential(\n",
    "            nn.Conv2d(1, 64, 7),\n",
    "            nn.BatchNorm2d(64),\n",
    "            nn.ReLU(),\n",
    "            nn.MaxPool2d(3, 2, 1),\n",
    "            nn.Sequential(ResidualBlock(64, 64), ResidualBlock(64, 64)),\n",
    "            nn.Sequential(\n",
    "                ResidualBlock(64, 128, (2, 2), True), ResidualBlock(128, 128)\n",
    "            ),\n",
    "            nn.Sequential(\n",
    "                ResidualBlock(128, 256, (2, 2), True), ResidualBlock(256, 256)\n",
    "            ),\n",
    "            nn.Sequential(\n",
    "                ResidualBlock(256, 512, (2, 2), True), ResidualBlock(512, 512)\n",
    "            ),\n",
    "            nn.AdaptiveAvgPool2d((1, 1)),\n",
    "            torch.nn.Flatten(),\n",
    "            nn.Linear(512, 10),\n",
    "            nn.LogSoftmax(1),\n",
    "        )\n",
    "\n",
    "    def forward(self, x):\n",
    "        x = self.model(x)\n",
    "        return x"
   ]
  },
  {
   "cell_type": "markdown",
   "id": "10f7f5a6",
   "metadata": {},
   "source": [
    "The following code shows how you can use a PyTorch Lightning module to wrap your model class and describe the behaviour for training and (optionally) validation steps.\n",
    "We also use the `LightningModule`'s builtin methods to configure the optimiser.\n",
    "For more information, see the [PyTorch Lightning Documentation for pl.LightningModule](https://pytorch-lightning.readthedocs.io/en/stable/common/lightning_module.html)."
   ]
  },
  {
   "cell_type": "code",
   "execution_count": null,
   "id": "7e72dd8e-1a6d-410d-8dbc-5f9774be3978",
   "metadata": {},
   "outputs": [],
   "source": [
    "# ResNet18 from-scratch with some changes to suit the FashionMNIST dataset\n",
    "class ResNetClassifier(pl.LightningModule):\n",
    "    def __init__(self, model):\n",
    "        super().__init__()\n",
    "        self.model = model\n",
    "\n",
    "    def forward(self, x):\n",
    "        x = self.model(x)\n",
    "        return x\n",
    "\n",
    "    def training_step(self, batch, _):\n",
    "        x, y = batch\n",
    "        output = self.forward(x)\n",
    "        loss = torch.nn.functional.nll_loss(output, y)\n",
    "        return loss\n",
    "\n",
    "    def validation_step(self, batch, _):\n",
    "        x, y = batch\n",
    "        output = self.forward(x)\n",
    "        preds = torch.argmax(output, dim=1)\n",
    "        acc = torch.sum(preds == y).float() / len(y)\n",
    "        return acc\n",
    "\n",
    "    def configure_optimizers(self):\n",
    "        return torch.optim.Adam(self.parameters(), lr=0.02)"
   ]
  },
  {
   "cell_type": "markdown",
   "id": "e391be5c",
   "metadata": {},
   "source": [
    "This class defines how to feed data to the model. It gets data from the local directory fashionmnist_data/ and declares a dataloader for training and for validation, based on the IPU-specific poptoch dataloader (https://docs.graphcore.ai/projects/poptorch-user-guide/en/latest/reference.html#poptorch.DataLoade). This will be passed to the trainer below."
   ]
  },
  {
   "cell_type": "code",
   "execution_count": null,
   "id": "63a67f56-22e2-4581-9d69-63e754be409a",
   "metadata": {},
   "outputs": [],
   "source": [
    "class FashionMNIST(pl.LightningDataModule):\n",
    "    def __init__(self, options, batch_size=4):\n",
    "        super().__init__()\n",
    "        self.batchsize = batch_size\n",
    "        self.options = options\n",
    "\n",
    "    def setup(self, stage=\"train\"):\n",
    "        # Retrieving the datasets\n",
    "        self.train_data = torchvision.datasets.FashionMNIST(\n",
    "            dataset_directory,\n",
    "            train=False,\n",
    "            download=True,\n",
    "            transform=torchvision.transforms.Compose(\n",
    "                [\n",
    "                    torchvision.transforms.ToTensor(),\n",
    "                    torchvision.transforms.Normalize((0.1307,), (0.3081,)),\n",
    "                ]\n",
    "            ),\n",
    "        )\n",
    "\n",
    "        self.validation_data = torchvision.datasets.FashionMNIST(\n",
    "            dataset_directory,\n",
    "            train=False,\n",
    "            download=True,\n",
    "            transform=torchvision.transforms.Compose(\n",
    "                [\n",
    "                    torchvision.transforms.ToTensor(),\n",
    "                    torchvision.transforms.Normalize((0.1307,), (0.3081,)),\n",
    "                ]\n",
    "            ),\n",
    "        )\n",
    "\n",
    "    def train_dataloader(self):\n",
    "        return poptorch.DataLoader(\n",
    "            dataset=self.train_data,\n",
    "            batch_size=self.batchsize,\n",
    "            options=self.options,\n",
    "            shuffle=True,\n",
    "            drop_last=True,\n",
    "            mode=poptorch.DataLoaderMode.Async,\n",
    "            num_workers=64,\n",
    "        )\n",
    "\n",
    "    def val_dataloader(self):\n",
    "        return poptorch.DataLoader(\n",
    "            dataset=self.validation_data,\n",
    "            batch_size=self.batchsize,\n",
    "            options=self.options,\n",
    "            drop_last=True,\n",
    "            mode=poptorch.DataLoaderMode.Async,\n",
    "            num_workers=64,\n",
    "        )"
   ]
  },
  {
   "cell_type": "markdown",
   "id": "b721d8c3",
   "metadata": {},
   "source": [
    "Set up training. Choosing to use the model defined above 'ResNetFromScratch', but can also use the alternative \"TorchVisionBackbone\""
   ]
  },
  {
   "cell_type": "code",
   "execution_count": null,
   "id": "ec2ddbee",
   "metadata": {},
   "outputs": [],
   "source": [
    "model = ResNetFromScratch()"
   ]
  },
  {
   "cell_type": "markdown",
   "id": "b0a1e8bd",
   "metadata": {},
   "source": [
    "Set up many epochs to train for"
   ]
  },
  {
   "cell_type": "code",
   "execution_count": null,
   "id": "f32ad783",
   "metadata": {},
   "outputs": [],
   "source": [
    "num_epochs = 2"
   ]
  },
  {
   "cell_type": "markdown",
   "id": "cd910edd",
   "metadata": {},
   "source": [
    "Pass the model to the PT-Lightning classifier and create a trainer with some IPU-spcifc options"
   ]
  },
  {
   "cell_type": "code",
   "execution_count": null,
   "id": "7eae3410",
   "metadata": {},
   "outputs": [],
   "source": [
    "model = ResNetClassifier(model)\n",
    "\n",
    "options = poptorch.Options()\n",
    "options.deviceIterations(250)\n",
    "options.replicationFactor(number_of_ipus)\n",
    "\n",
    "datamodule = FashionMNIST(options)\n",
    "\n",
    "trainer = pl.Trainer(\n",
    "    accelerator=\"ipu\",\n",
    "    devices=number_of_ipus,\n",
    "    max_epochs=num_epochs,\n",
    "    log_every_n_steps=1,\n",
    "    accumulate_grad_batches=8,\n",
    "    strategy=IPUStrategy(inference_opts=options, training_opts=options),\n",
    "    # enable_progress_bar=False,\n",
    ")"
   ]
  },
  {
   "cell_type": "markdown",
   "id": "a824e1af",
   "metadata": {},
   "source": [
    "Now train the model"
   ]
  },
  {
   "cell_type": "code",
   "execution_count": null,
   "id": "bb57f185-8817-4efe-b4f3-dfdffa0a377c",
   "metadata": {},
   "outputs": [],
   "source": [
    "trainer.fit(model, datamodule)"
   ]
  },
  {
   "cell_type": "code",
   "execution_count": null,
   "id": "1e3d0008",
   "metadata": {},
   "outputs": [],
   "source": []
  }
 ],
 "metadata": {
  "language_info": {
   "name": "python"
  }
 },
 "nbformat": 4,
 "nbformat_minor": 5
}
